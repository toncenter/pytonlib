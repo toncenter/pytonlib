{
 "cells": [
  {
   "cell_type": "markdown",
   "id": "21a02167",
   "metadata": {},
   "source": [
    "# TonlibClient example"
   ]
  },
  {
   "cell_type": "code",
   "execution_count": null,
   "id": "ed3cdccf",
   "metadata": {},
   "outputs": [],
   "source": [
    "import sys\n",
    "import os\n",
    "os.makedirs('/tmp/ton_keystore', exist_ok=True)\n",
    "sys.path.insert(0, '/app')\n",
    "\n",
    "import logging\n",
    "import requests\n",
    "import asyncio\n",
    "\n",
    "from pytonlib import TonlibClient\n",
    "\n",
    "\n",
    "logging.basicConfig(format='%(asctime)s %(module)-15s %(message)s',\n",
    "                    level=logging.INFO)"
   ]
  },
  {
   "cell_type": "markdown",
   "id": "3ccbf5a4",
   "metadata": {},
   "source": [
    "Reading latest config:"
   ]
  },
  {
   "cell_type": "code",
   "execution_count": null,
   "id": "7e898620",
   "metadata": {},
   "outputs": [],
   "source": [
    "ton_config_url = 'https://ton.org/global.config.json'\n",
    "ton_config = requests.get(ton_config_url).json()"
   ]
  },
  {
   "cell_type": "markdown",
   "id": "ee2e0029",
   "metadata": {},
   "source": [
    "Creating TonlibClient with single LiteServer. You can select LiteServer by index in config file:"
   ]
  },
  {
   "cell_type": "code",
   "execution_count": null,
   "id": "22e67d8d",
   "metadata": {},
   "outputs": [],
   "source": [
    "loop = asyncio.get_running_loop()\n",
    "client = TonlibClient(ls_index=1, # choose LiteServer to connect\n",
    "                      config=ton_config,\n",
    "                      keystore='/tmp/ton_keystore',\n",
    "                      loop=loop)\n",
    "\n",
    "await client.init()"
   ]
  },
  {
   "cell_type": "markdown",
   "id": "8eb6d564",
   "metadata": {},
   "source": [
    "Reading masterchain info:"
   ]
  },
  {
   "cell_type": "code",
   "execution_count": null,
   "id": "a0c3eaf0",
   "metadata": {},
   "outputs": [],
   "source": [
    "masterchain_info = await client.get_masterchain_info()\n",
    "masterchain_info"
   ]
  },
  {
   "cell_type": "markdown",
   "id": "649abfa7",
   "metadata": {},
   "source": [
    "Block header for the last masterchain block:"
   ]
  },
  {
   "cell_type": "code",
   "execution_count": null,
   "id": "3da9bd64",
   "metadata": {},
   "outputs": [],
   "source": [
    "block_header = await client.get_block_header(**masterchain_info['last'])\n",
    "block_header"
   ]
  },
  {
   "cell_type": "markdown",
   "id": "4d62baff",
   "metadata": {},
   "source": [
    "Shards of the masterchain block:"
   ]
  },
  {
   "cell_type": "code",
   "execution_count": null,
   "id": "e5470d37",
   "metadata": {},
   "outputs": [],
   "source": [
    "shards = await client.get_shards(master_seqno=masterchain_info['last']['seqno'])\n",
    "shards"
   ]
  },
  {
   "cell_type": "markdown",
   "id": "86225dcd",
   "metadata": {},
   "source": [
    "Read transactions from the shard block:"
   ]
  },
  {
   "cell_type": "code",
   "execution_count": null,
   "id": "d09bc06b",
   "metadata": {},
   "outputs": [],
   "source": [
    "txs = await client.get_block_transactions(**masterchain_info['last'], count=10)\n",
    "\n",
    "print('Is incomplete:', txs['incomplete'])\n",
    "print('Num txs:', len(txs['transactions']))"
   ]
  },
  {
   "cell_type": "markdown",
   "id": "0d4549b1",
   "metadata": {},
   "source": [
    "Read transaction details:"
   ]
  },
  {
   "cell_type": "code",
   "execution_count": null,
   "id": "e8397a5b",
   "metadata": {},
   "outputs": [],
   "source": [
    "tx = txs['transactions'][0]\n",
    "tx"
   ]
  },
  {
   "cell_type": "code",
   "execution_count": null,
   "id": "b65b4586",
   "metadata": {},
   "outputs": [],
   "source": [
    "await client.get_transactions(**tx, limit=1)"
   ]
  },
  {
   "cell_type": "markdown",
   "id": "68dc43a6",
   "metadata": {},
   "source": [
    "Check extra currencies:"
   ]
  },
  {
   "cell_type": "code",
   "execution_count": null,
   "id": "03b9b897",
   "metadata": {},
   "outputs": [],
   "source": [
    "address = '0:C4CAC12F5BC7EEF4CF5EC84EE68CCF860921A06CA0395EC558E53E37B13C3B08'\n",
    "await client.raw_get_account_state(address)"
   ]
  },
  {
   "cell_type": "code",
   "execution_count": null,
   "id": "df38f87a",
   "metadata": {},
   "outputs": [],
   "source": []
  }
 ],
 "metadata": {
  "kernelspec": {
   "display_name": "venv@3.12",
   "language": "python",
   "name": "python3"
  },
  "language_info": {
   "codemirror_mode": {
    "name": "ipython",
    "version": 3
   },
   "file_extension": ".py",
   "mimetype": "text/x-python",
   "name": "python",
   "nbconvert_exporter": "python",
   "pygments_lexer": "ipython3",
   "version": "3.12.9"
  }
 },
 "nbformat": 4,
 "nbformat_minor": 5
}
