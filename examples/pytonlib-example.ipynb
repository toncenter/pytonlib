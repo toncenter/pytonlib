{
 "cells": [
  {
   "cell_type": "markdown",
   "id": "21a02167",
   "metadata": {},
   "source": [
    "# TonlibClient example"
   ]
  },
  {
   "cell_type": "code",
   "execution_count": 1,
   "id": "ed3cdccf",
   "metadata": {},
   "outputs": [],
   "source": [
    "import sys\n",
    "sys.path.insert(0, '/app')\n",
    "\n",
    "import logging\n",
    "import requests\n",
    "import asyncio\n",
    "\n",
    "from pytonlib import TonlibClient\n",
    "\n",
    "\n",
    "logging.basicConfig(format='%(asctime)s %(module)-15s %(message)s',\n",
    "                    level=logging.INFO)"
   ]
  },
  {
   "cell_type": "markdown",
   "id": "3ccbf5a4",
   "metadata": {},
   "source": [
    "Reading latest config:"
   ]
  },
  {
   "cell_type": "code",
   "execution_count": 2,
   "id": "7e898620",
   "metadata": {},
   "outputs": [],
   "source": [
    "ton_config_url = 'https://newton-blockchain.github.io/global.config.json'\n",
    "ton_config = requests.get(ton_config_url).json()"
   ]
  },
  {
   "cell_type": "markdown",
   "id": "ee2e0029",
   "metadata": {},
   "source": [
    "Creating TonlibClient with single LiteServer. You can select LiteServer by index in config file:"
   ]
  },
  {
   "cell_type": "code",
   "execution_count": 3,
   "id": "22e67d8d",
   "metadata": {},
   "outputs": [
    {
     "name": "stderr",
     "output_type": "stream",
     "text": [
      "[ 4][t 0][2022-05-06 20:36:00.314293800][Client.cpp:78][&tonlib_requests]\tBegin to wait for updates with timeout 1.000000\u001b[0m\n",
      "[ 4][t 1][2022-05-06 20:36:00.320407500][TonlibClient.cpp:1477][!Tonlib][&tonlib_query]\tTonlib got query [id:1] setLogVerbosityLevel {\n",
      "  new_verbosity_level = 0\n",
      "}\u001b[0m\n",
      "[ 4][t 1][2022-05-06 20:36:00.321866900][TonlibClient.cpp:1516][!Tonlib][&tonlib_query]\tTonlib got static query setLogVerbosityLevel {\n",
      "  new_verbosity_level = 0\n",
      "}\u001b[0m\n",
      "2022-05-06 20:36:00,331 client          TonLib #000 inited successfully\n"
     ]
    }
   ],
   "source": [
    "loop = asyncio.get_running_loop()\n",
    "client = TonlibClient(ls_index=0, # choose LiteServer to connect\n",
    "                      config=ton_config,\n",
    "                      keystore='/tmp/ton_keystore',\n",
    "                      loop=loop)\n",
    "\n",
    "await client.init()"
   ]
  },
  {
   "cell_type": "markdown",
   "id": "8eb6d564",
   "metadata": {},
   "source": [
    "Reading masterchain info:"
   ]
  },
  {
   "cell_type": "code",
   "execution_count": 4,
   "id": "a0c3eaf0",
   "metadata": {},
   "outputs": [
    {
     "data": {
      "text/plain": [
       "{'@type': 'blocks.masterchainInfo',\n",
       " 'last': {'@type': 'ton.blockIdExt',\n",
       "  'workchain': -1,\n",
       "  'shard': '-9223372036854775808',\n",
       "  'seqno': 20361208,\n",
       "  'root_hash': 'FDEyd4nZgolZ9ryWCK32u/5MsPCDTo6qJHT3XGFF8XA=',\n",
       "  'file_hash': 'Jn9q+fqs6dF5wc+3DzjCsQdGL4g8IfIr9RpYnS1QwsA='},\n",
       " 'state_root_hash': 'xQvdczD+gdaTamtLDIo9rwxLG3w4fchSiEcnaPsHuN0=',\n",
       " 'init': {'@type': 'ton.blockIdExt',\n",
       "  'workchain': -1,\n",
       "  'shard': '0',\n",
       "  'seqno': 0,\n",
       "  'root_hash': 'F6OpKZKqvqeFp6CQmFomXNMfMj2EnaUSOXN+Mh+wVWk=',\n",
       "  'file_hash': 'XplPz01CXAps5qeSWUtxcyBfdAo5zVb1N979KLSKD24='},\n",
       " '@extra': '1651869370.3371992:0:0.507966611324214'}"
      ]
     },
     "execution_count": 4,
     "metadata": {},
     "output_type": "execute_result"
    }
   ],
   "source": [
    "masterchain_info = await client.get_masterchain_info()\n",
    "masterchain_info"
   ]
  },
  {
   "cell_type": "markdown",
   "id": "649abfa7",
   "metadata": {},
   "source": [
    "Block header for the last masterchain block:"
   ]
  },
  {
   "cell_type": "code",
   "execution_count": 5,
   "id": "3da9bd64",
   "metadata": {},
   "outputs": [
    {
     "data": {
      "text/plain": [
       "{'@type': 'blocks.header',\n",
       " 'id': {'@type': 'ton.blockIdExt',\n",
       "  'workchain': -1,\n",
       "  'shard': '-9223372036854775808',\n",
       "  'seqno': 20361208,\n",
       "  'root_hash': 'FDEyd4nZgolZ9ryWCK32u/5MsPCDTo6qJHT3XGFF8XA=',\n",
       "  'file_hash': 'Jn9q+fqs6dF5wc+3DzjCsQdGL4g8IfIr9RpYnS1QwsA='},\n",
       " 'global_id': -239,\n",
       " 'version': 0,\n",
       " 'flags': 1,\n",
       " 'after_merge': False,\n",
       " 'after_split': False,\n",
       " 'before_split': False,\n",
       " 'want_merge': True,\n",
       " 'want_split': False,\n",
       " 'validator_list_hash_short': 122883420,\n",
       " 'catchain_seqno': 306940,\n",
       " 'min_ref_mc_seqno': 20361205,\n",
       " 'is_key_block': False,\n",
       " 'prev_key_block_seqno': 20351399,\n",
       " 'start_lt': '27699743000000',\n",
       " 'end_lt': '27699743000004',\n",
       " 'gen_utime': 1651869354,\n",
       " 'vert_seqno': 1,\n",
       " 'prev_blocks': [{'@type': 'ton.blockIdExt',\n",
       "   'workchain': -1,\n",
       "   'shard': '-9223372036854775808',\n",
       "   'seqno': 20361207,\n",
       "   'root_hash': 'AM+LcJOyfGSm1dpbaQDXpOgY7bcMcEDawtCAUwcJLJw=',\n",
       "   'file_hash': 'AyW+wJSoJZfbBB3Y1JrgJ19SKlpC7WvitkeVk/yplYI='}],\n",
       " '@extra': '1651869370.6080866:0:0.17246900748102634'}"
      ]
     },
     "execution_count": 5,
     "metadata": {},
     "output_type": "execute_result"
    }
   ],
   "source": [
    "block_header = await client.get_block_header(**masterchain_info['last'])\n",
    "block_header"
   ]
  },
  {
   "cell_type": "markdown",
   "id": "4d62baff",
   "metadata": {},
   "source": [
    "Shards of the masterchain block:"
   ]
  },
  {
   "cell_type": "code",
   "execution_count": 6,
   "id": "e5470d37",
   "metadata": {},
   "outputs": [
    {
     "data": {
      "text/plain": [
       "{'@type': 'blocks.shards',\n",
       " 'shards': [{'@type': 'ton.blockIdExt',\n",
       "   'workchain': 0,\n",
       "   'shard': '-9223372036854775808',\n",
       "   'seqno': 25532997,\n",
       "   'root_hash': 'JI8s3H5c7g4Vexlezl6V+xhvKYjIZKsA8ItgZHJdtQU=',\n",
       "   'file_hash': 'cMglRNmDveIczi8SjzIsBGHDT0baUa+bwe1ba5Qh7CI='}],\n",
       " '@extra': '1651869370.8817048:0:0.3841969484094021'}"
      ]
     },
     "execution_count": 6,
     "metadata": {},
     "output_type": "execute_result"
    }
   ],
   "source": [
    "shards = await client.get_shards(master_seqno=masterchain_info['last']['seqno'])\n",
    "shards"
   ]
  },
  {
   "cell_type": "markdown",
   "id": "86225dcd",
   "metadata": {},
   "source": [
    "Read transactions from the shard block:"
   ]
  },
  {
   "cell_type": "code",
   "execution_count": 7,
   "id": "d09bc06b",
   "metadata": {},
   "outputs": [
    {
     "name": "stdout",
     "output_type": "stream",
     "text": [
      "Is incomplete: False\n",
      "Num txs: 5\n"
     ]
    }
   ],
   "source": [
    "txs = await client.get_block_transactions(**masterchain_info['last'], count=10)\n",
    "\n",
    "print('Is incomplete:', txs['incomplete'])\n",
    "print('Num txs:', len(txs['transactions']))"
   ]
  },
  {
   "cell_type": "markdown",
   "id": "0d4549b1",
   "metadata": {},
   "source": [
    "Read transaction details:"
   ]
  },
  {
   "cell_type": "code",
   "execution_count": 8,
   "id": "e8397a5b",
   "metadata": {},
   "outputs": [
    {
     "data": {
      "text/plain": [
       "{'@type': 'blocks.shortTxId',\n",
       " 'mode': 135,\n",
       " 'account': '-1:3333333333333333333333333333333333333333333333333333333333333333',\n",
       " 'lt': '27699743000001',\n",
       " 'hash': 'jOIVA+yIkoPywpjrFj9VYTohez2au0ooow5uPLYWFAc='}"
      ]
     },
     "execution_count": 8,
     "metadata": {},
     "output_type": "execute_result"
    }
   ],
   "source": [
    "tx = txs['transactions'][0]\n",
    "tx"
   ]
  },
  {
   "cell_type": "code",
   "execution_count": 9,
   "id": "b65b4586",
   "metadata": {},
   "outputs": [
    {
     "data": {
      "text/plain": [
       "[{'@type': 'raw.transaction',\n",
       "  'address': {'@type': 'accountAddress',\n",
       "   'account_address': 'Ef8zMzMzMzMzMzMzMzMzMzMzMzMzMzMzMzMzMzMzMzMzM0vF'},\n",
       "  'utime': 1651869357,\n",
       "  'data': 'te6cckECBwEAAYkAA69zMzMzMzMzMzMzMzMzMzMzMzMzMzMzMzMzMzMzMzMzMzAAAZMVlmyAIoy6aZP4NZkz72hGeQDNHm2NpTPKWaFnx4LB9YizUu2gAAGTFZZsgBYnWGrQABQIAQIDAQGgBACCco+Ec6Mj7xtio/Duyx50cd7VDh/dyMx2l/MOpAqkYJIU5/6pVPLSgialzCVl4c6EkwC2lWh3d1HX8y6moQPwkl4CDwQJKU/jnFgRBQYAq2n+AAAAAAAAAAAAAAAAAAAAAAAAAAAAAAAAAAAAAAAAAAE/zMzMzMzMzMzMzMzMzMzMzMzMzMzMzMzMzMzMzMzMzMzSlP45xAAAADJiss2QAMTrDVpAAJ5CYUwQ6+AAAAAAAAAAAGQAAAAAAAAAAAAAAAAAAAAAAAAAAAAAAAAAAAAAAAAAAAAAAAAAAAAAAAAAAAAAAAAAAAAAAAAAAAAAAAAAAAAAAFvAAAAAAAAAAAAAAAABLUUtpEnlC4z33SeGHxRhIq/htUa7i3D8ghbwxhQTn44EwPyXiw==',\n",
       "  'transaction_id': {'@type': 'internal.transactionId',\n",
       "   'lt': '27699744000002',\n",
       "   'hash': 'AnL1aJnySYYOG+Godrlio8NhYRZO3avoLzfkdXpnnOo='},\n",
       "  'fee': '0',\n",
       "  'storage_fee': '0',\n",
       "  'other_fee': '0',\n",
       "  'in_msg': {'@type': 'raw.message',\n",
       "   'source': 'Ef8AAAAAAAAAAAAAAAAAAAAAAAAAAAAAAAAAAAAAAAAAADAU',\n",
       "   'destination': 'Ef8zMzMzMzMzMzMzMzMzMzMzMzMzMzMzMzMzMzMzMzMzM0vF',\n",
       "   'value': '2772405873',\n",
       "   'fwd_fee': '0',\n",
       "   'ihr_fee': '0',\n",
       "   'created_lt': '27699744000000',\n",
       "   'body_hash': 'lqKW0iTyhcZ77pPDD4owkVfw2qNdxbh+QQt4YwoJz8c=',\n",
       "   'msg_data': {'@type': 'msg.dataRaw',\n",
       "    'body': 'te6cckEBAQEAAgAAAEysuc0=',\n",
       "    'init_state': ''},\n",
       "   'message': ''},\n",
       "  'out_msgs': []}]"
      ]
     },
     "execution_count": 9,
     "metadata": {},
     "output_type": "execute_result"
    }
   ],
   "source": [
    "await client.get_transactions(**tx, limit=1)"
   ]
  },
  {
   "cell_type": "code",
   "execution_count": null,
   "id": "68dc43a6",
   "metadata": {},
   "outputs": [],
   "source": []
  }
 ],
 "metadata": {
  "kernelspec": {
   "display_name": "Python 3 (ipykernel)",
   "language": "python",
   "name": "python3"
  },
  "language_info": {
   "codemirror_mode": {
    "name": "ipython",
    "version": 3
   },
   "file_extension": ".py",
   "mimetype": "text/x-python",
   "name": "python",
   "nbconvert_exporter": "python",
   "pygments_lexer": "ipython3",
   "version": "3.8.10"
  }
 },
 "nbformat": 4,
 "nbformat_minor": 5
}
