{
 "cells": [
  {
   "cell_type": "markdown",
   "id": "21a02167",
   "metadata": {},
   "source": [
    "# TonlibClient example"
   ]
  },
  {
   "cell_type": "code",
   "execution_count": 1,
   "id": "ed3cdccf",
   "metadata": {},
   "outputs": [],
   "source": [
    "import sys\n",
    "sys.path.insert(0, '/app')\n",
    "\n",
    "import logging\n",
    "import requests\n",
    "import asyncio\n",
    "\n",
    "from pytonlib import TonlibClient\n",
    "\n",
    "\n",
    "logging.basicConfig(format='%(asctime)s %(module)-15s %(message)s',\n",
    "                    level=logging.INFO)"
   ]
  },
  {
   "cell_type": "markdown",
   "id": "3ccbf5a4",
   "metadata": {},
   "source": [
    "Reading latest config:"
   ]
  },
  {
   "cell_type": "code",
   "execution_count": 2,
   "id": "7e898620",
   "metadata": {},
   "outputs": [],
   "source": [
    "ton_config_url = 'https://newton-blockchain.github.io/global.config.json'\n",
    "ton_config = requests.get(ton_config_url).json()"
   ]
  },
  {
   "cell_type": "markdown",
   "id": "ee2e0029",
   "metadata": {},
   "source": [
    "Creating TonlibClient with single LiteServer. You can select LiteServer by index in config file:"
   ]
  },
  {
   "cell_type": "code",
   "execution_count": 3,
   "id": "22e67d8d",
   "metadata": {},
   "outputs": [
    {
     "name": "stderr",
     "output_type": "stream",
     "text": [
      "[ 4][t 1][2022-05-06 12:06:30.259248100][TonlibClient.cpp:1477][!Tonlib][&tonlib_query]\tTonlib got query [id:1] setLogVerbosityLevel {\n",
      "  new_verbosity_level = 0\n",
      "}\u001b[0m\n",
      "[ 4][t 1][2022-05-06 12:06:30.259297000][TonlibClient.cpp:1516][!Tonlib][&tonlib_query]\tTonlib got static query setLogVerbosityLevel {\n",
      "  new_verbosity_level = 0\n",
      "}\u001b[0m\n",
      "2022-05-06 12:06:30,266 client          TonLib #000 inited successfully\n"
     ]
    }
   ],
   "source": [
    "loop = asyncio.get_running_loop()\n",
    "client = TonlibClient(ls_index=0, # choose LiteServer to connect\n",
    "                      config=ton_config,\n",
    "                      keystore='/tmp/ton_keystore',\n",
    "                      loop=loop)\n",
    "\n",
    "await client.init()"
   ]
  },
  {
   "cell_type": "markdown",
   "id": "8eb6d564",
   "metadata": {},
   "source": [
    "Reading masterchain info:"
   ]
  },
  {
   "cell_type": "code",
   "execution_count": 4,
   "id": "a0c3eaf0",
   "metadata": {},
   "outputs": [
    {
     "data": {
      "text/plain": [
       "{'@type': 'blocks.masterchainInfo',\n",
       " 'last': {'@type': 'ton.blockIdExt',\n",
       "  'workchain': -1,\n",
       "  'shard': '-9223372036854775808',\n",
       "  'seqno': 20352855,\n",
       "  'root_hash': 'HybomVdog/VXwRh/uijnoW4GNyg3uZU/Yf2klSZc3w8=',\n",
       "  'file_hash': 'e8ODh5TTAk2GbOzGVX5bWYFuw2TOY4g9dnRLp71GIJo='},\n",
       " 'state_root_hash': '11WdVLe2zjALVR5Vy+zODD+4Z3fUkUMS//+nChBwnTw=',\n",
       " 'init': {'@type': 'ton.blockIdExt',\n",
       "  'workchain': -1,\n",
       "  'shard': '0',\n",
       "  'seqno': 0,\n",
       "  'root_hash': 'F6OpKZKqvqeFp6CQmFomXNMfMj2EnaUSOXN+Mh+wVWk=',\n",
       "  'file_hash': 'XplPz01CXAps5qeSWUtxcyBfdAo5zVb1N979KLSKD24='},\n",
       " '@extra': '1651838801.2616553:0:0.6755289135658142'}"
      ]
     },
     "execution_count": 4,
     "metadata": {},
     "output_type": "execute_result"
    }
   ],
   "source": [
    "masterchain_info = await client.get_masterchain_info()\n",
    "masterchain_info"
   ]
  },
  {
   "cell_type": "markdown",
   "id": "649abfa7",
   "metadata": {},
   "source": [
    "Block header for the last masterchain block:"
   ]
  },
  {
   "cell_type": "code",
   "execution_count": 5,
   "id": "3da9bd64",
   "metadata": {},
   "outputs": [
    {
     "data": {
      "text/plain": [
       "{'@type': 'blocks.header',\n",
       " 'id': {'@type': 'ton.blockIdExt',\n",
       "  'workchain': -1,\n",
       "  'shard': '-9223372036854775808',\n",
       "  'seqno': 20352855,\n",
       "  'root_hash': 'HybomVdog/VXwRh/uijnoW4GNyg3uZU/Yf2klSZc3w8=',\n",
       "  'file_hash': 'e8ODh5TTAk2GbOzGVX5bWYFuw2TOY4g9dnRLp71GIJo='},\n",
       " 'global_id': -239,\n",
       " 'version': 0,\n",
       " 'flags': 1,\n",
       " 'after_merge': False,\n",
       " 'after_split': False,\n",
       " 'before_split': False,\n",
       " 'want_merge': True,\n",
       " 'want_split': False,\n",
       " 'validator_list_hash_short': -567360299,\n",
       " 'catchain_seqno': 306818,\n",
       " 'min_ref_mc_seqno': 20352852,\n",
       " 'is_key_block': False,\n",
       " 'prev_key_block_seqno': 20351399,\n",
       " 'start_lt': '27690238000000',\n",
       " 'end_lt': '27690238000004',\n",
       " 'gen_utime': 1651838783,\n",
       " 'vert_seqno': 1,\n",
       " 'prev_blocks': [{'@type': 'ton.blockIdExt',\n",
       "   'workchain': -1,\n",
       "   'shard': '-9223372036854775808',\n",
       "   'seqno': 20352854,\n",
       "   'root_hash': 'eYMrWkNTQEZCl1GpzZgNZnu/Pn5H4tDyjuDVELoUhaQ=',\n",
       "   'file_hash': 'XLaOuSRinsM3nibx7Ohwn0pvNN3Op0bZD0FXC8nUbxA='}],\n",
       " '@extra': '1651838801.8503692:0:0.04694758922595088'}"
      ]
     },
     "execution_count": 5,
     "metadata": {},
     "output_type": "execute_result"
    }
   ],
   "source": [
    "block_header = await client.get_block_header(**masterchain_info['last'])\n",
    "block_header"
   ]
  },
  {
   "cell_type": "markdown",
   "id": "4d62baff",
   "metadata": {},
   "source": [
    "Shards of the masterchain block:"
   ]
  },
  {
   "cell_type": "code",
   "execution_count": 6,
   "id": "e5470d37",
   "metadata": {},
   "outputs": [
    {
     "data": {
      "text/plain": [
       "{'@type': 'blocks.shards',\n",
       " 'shards': [{'@type': 'ton.blockIdExt',\n",
       "   'workchain': 0,\n",
       "   'shard': '-9223372036854775808',\n",
       "   'seqno': 25523717,\n",
       "   'root_hash': '+vQ9EGj9do3ZaYD45CPx7TNXDEawv6Sn7jm9A/clhUg=',\n",
       "   'file_hash': 'sejNgFj1dVDgysh+sbTuHaq78hdmJn+MsXlVGIqET6I='}],\n",
       " '@extra': '1651838802.874297:0:0.8589753613044604'}"
      ]
     },
     "execution_count": 6,
     "metadata": {},
     "output_type": "execute_result"
    }
   ],
   "source": [
    "shards = await client.get_shards(master_seqno=masterchain_info['last']['seqno'])\n",
    "shards"
   ]
  },
  {
   "cell_type": "markdown",
   "id": "86225dcd",
   "metadata": {},
   "source": [
    "Read transactions from the shard block:"
   ]
  },
  {
   "cell_type": "code",
   "execution_count": 7,
   "id": "d09bc06b",
   "metadata": {},
   "outputs": [
    {
     "name": "stdout",
     "output_type": "stream",
     "text": [
      "Is incomplete: False\n",
      "Num txs: 5\n"
     ]
    }
   ],
   "source": [
    "txs = await client.get_block_transactions(**masterchain_info['last'], count=10)\n",
    "\n",
    "print('Is incomplete:', txs['incomplete'])\n",
    "print('Num txs:', len(txs['transactions']))"
   ]
  },
  {
   "cell_type": "markdown",
   "id": "0d4549b1",
   "metadata": {},
   "source": [
    "Read transaction details:"
   ]
  },
  {
   "cell_type": "code",
   "execution_count": 8,
   "id": "e8397a5b",
   "metadata": {},
   "outputs": [
    {
     "data": {
      "text/plain": [
       "{'@type': 'blocks.shortTxId',\n",
       " 'mode': 135,\n",
       " 'account': '-1:3333333333333333333333333333333333333333333333333333333333333333',\n",
       " 'lt': '27690238000001',\n",
       " 'hash': 'UOooABBR9GbHy6Xc9XoQrP0O23E9olCvQQfQccAx5oY='}"
      ]
     },
     "execution_count": 8,
     "metadata": {},
     "output_type": "execute_result"
    }
   ],
   "source": [
    "tx = txs['transactions'][0]\n",
    "tx"
   ]
  },
  {
   "cell_type": "code",
   "execution_count": 9,
   "id": "b65b4586",
   "metadata": {},
   "outputs": [
    {
     "data": {
      "text/plain": [
       "[{'@type': 'raw.transaction',\n",
       "  'address': {'@type': 'accountAddress',\n",
       "   'account_address': 'Ef8zMzMzMzMzMzMzMzMzMzMzMzMzMzMzMzMzMzMzMzMzM0vF'},\n",
       "  'utime': 1651838789,\n",
       "  'data': 'te6cckECBwEAAYkAA69zMzMzMzMzMzMzMzMzMzMzMzMzMzMzMzMzMzMzMzMzMzAAAZLyLrQAJEADAz5R9kyiBp6FDszsyvjxs+S6ZCykpfnwFgXaXSAQAAGS8i60ABYnUPRQABQIAQIDAQGgBACCco4xkVFKupxUGvO41Ydm9foAhJtJVq3G9Zw5u+QyMqwnFqNBt71om/njbC9S5zY+hsJRhXrP+u6e4IRL47UnsOwCDwQJN4DTU5gRBQYAq2n+AAAAAAAAAAAAAAAAAAAAAAAAAAAAAAAAAAAAAAAAAAE/zMzMzMzMzMzMzMzMzMzMzMzMzMzMzMzMzMzMzMzMzMzTeA01OAAAADJeRdaAAMTqHopAAJ5Cr2wWu+wAAAAAAAAAAGQAAAAAAAAAAAAAAAAAAAAAAAAAAAAAAAAAAAAAAAAAAAAAAAAAAAAAAAAAAAAAAAAAAAAAAAAAAAAAAAAAAAAAAFvAAAAAAAAAAAAAAAABLUUtpEnlC4z33SeGHxRhIq/htUa7i3D8ghbwxhQTn44EnHVZsA==',\n",
       "  'transaction_id': {'@type': 'internal.transactionId',\n",
       "   'lt': '27690240000002',\n",
       "   'hash': 'DPXzyS0NpTZjMmcOTpqXsMIvkrqIdoSK/XKP/aZkyUs='},\n",
       "  'fee': '0',\n",
       "  'storage_fee': '0',\n",
       "  'other_fee': '0',\n",
       "  'in_msg': {'@type': 'raw.message',\n",
       "   'source': 'Ef8AAAAAAAAAAAAAAAAAAAAAAAAAAAAAAAAAAAAAAAAAADAU',\n",
       "   'destination': 'Ef8zMzMzMzMzMzMzMzMzMzMzMzMzMzMzMzMzMzMzMzMzM0vF',\n",
       "   'value': '3724758350',\n",
       "   'fwd_fee': '0',\n",
       "   'ihr_fee': '0',\n",
       "   'created_lt': '27690240000000',\n",
       "   'body_hash': 'lqKW0iTyhcZ77pPDD4owkVfw2qNdxbh+QQt4YwoJz8c=',\n",
       "   'msg_data': {'@type': 'msg.dataRaw',\n",
       "    'body': 'te6cckEBAQEAAgAAAEysuc0=',\n",
       "    'init_state': ''},\n",
       "   'message': ''},\n",
       "  'out_msgs': []}]"
      ]
     },
     "execution_count": 9,
     "metadata": {},
     "output_type": "execute_result"
    }
   ],
   "source": [
    "await client.get_transactions(**tx, limit=1)"
   ]
  },
  {
   "cell_type": "code",
   "execution_count": 14,
   "id": "c0595e95",
   "metadata": {},
   "outputs": [
    {
     "name": "stderr",
     "output_type": "stream",
     "text": [
      "/usr/lib/python3.8/asyncio/base_events.py:422: RuntimeWarning: coroutine 'TonlibClient.get_block_header' was never awaited\n",
      "  return futures.Future(loop=self)\n",
      "RuntimeWarning: Enable tracemalloc to get the object allocation traceback\n"
     ]
    },
    {
     "name": "stdout",
     "output_type": "stream",
     "text": [
      "1024\n"
     ]
    },
    {
     "data": {
      "text/plain": [
       "[{'@type': 'blocks.header',\n",
       "  'id': {'@type': 'ton.blockIdExt',\n",
       "   'workchain': -1,\n",
       "   'shard': '-9223372036854775808',\n",
       "   'seqno': 20352855,\n",
       "   'root_hash': 'HybomVdog/VXwRh/uijnoW4GNyg3uZU/Yf2klSZc3w8=',\n",
       "   'file_hash': 'e8ODh5TTAk2GbOzGVX5bWYFuw2TOY4g9dnRLp71GIJo='},\n",
       "  'global_id': -239,\n",
       "  'version': 0,\n",
       "  'flags': 1,\n",
       "  'after_merge': False,\n",
       "  'after_split': False,\n",
       "  'before_split': False,\n",
       "  'want_merge': True,\n",
       "  'want_split': False,\n",
       "  'validator_list_hash_short': -567360299,\n",
       "  'catchain_seqno': 306818,\n",
       "  'min_ref_mc_seqno': 20352852,\n",
       "  'is_key_block': False,\n",
       "  'prev_key_block_seqno': 20351399,\n",
       "  'start_lt': '27690238000000',\n",
       "  'end_lt': '27690238000004',\n",
       "  'gen_utime': 1651838783,\n",
       "  'vert_seqno': 1,\n",
       "  'prev_blocks': [{'@type': 'ton.blockIdExt',\n",
       "    'workchain': -1,\n",
       "    'shard': '-9223372036854775808',\n",
       "    'seqno': 20352854,\n",
       "    'root_hash': 'eYMrWkNTQEZCl1GpzZgNZnu/Pn5H4tDyjuDVELoUhaQ=',\n",
       "    'file_hash': 'XLaOuSRinsM3nibx7Ohwn0pvNN3Op0bZD0FXC8nUbxA='}],\n",
       "  '@extra': '1651839046.6459806:0:0.03797526233823956'},\n",
       " {'@type': 'blocks.header',\n",
       "  'id': {'@type': 'ton.blockIdExt',\n",
       "   'workchain': -1,\n",
       "   'shard': '-9223372036854775808',\n",
       "   'seqno': 20352854,\n",
       "   'root_hash': 'eYMrWkNTQEZCl1GpzZgNZnu/Pn5H4tDyjuDVELoUhaQ=',\n",
       "   'file_hash': 'XLaOuSRinsM3nibx7Ohwn0pvNN3Op0bZD0FXC8nUbxA='},\n",
       "  'global_id': -239,\n",
       "  'version': 0,\n",
       "  'flags': 1,\n",
       "  'after_merge': False,\n",
       "  'after_split': False,\n",
       "  'before_split': False,\n",
       "  'want_merge': True,\n",
       "  'want_split': False,\n",
       "  'validator_list_hash_short': -567360299,\n",
       "  'catchain_seqno': 306818,\n",
       "  'min_ref_mc_seqno': 20352851,\n",
       "  'is_key_block': False,\n",
       "  'prev_key_block_seqno': 20351399,\n",
       "  'start_lt': '27690237000000',\n",
       "  'end_lt': '27690237000004',\n",
       "  'gen_utime': 1651838780,\n",
       "  'vert_seqno': 1,\n",
       "  'prev_blocks': [{'@type': 'ton.blockIdExt',\n",
       "    'workchain': -1,\n",
       "    'shard': '-9223372036854775808',\n",
       "    'seqno': 20352853,\n",
       "    'root_hash': '4WgTLo5Q+WRyEBhqyDrqfOSaXhrZp5a+vISwUbXR60E=',\n",
       "    'file_hash': 'sYldZrMlv0L9al5aQwjXcQ8+MuVwbb5UgDFP0I97gfI='}],\n",
       "  '@extra': '1651839046.703212:0:0.8302301238745247'}]"
      ]
     },
     "execution_count": 14,
     "metadata": {},
     "output_type": "execute_result"
    }
   ],
   "source": [
    "headers = []\n",
    "\n",
    "start_seqno = 20352855\n",
    "for i in range(1024):\n",
    "    header_future = client.get_block_header(-1, -9223372036854775808, start_seqno - i)\n",
    "    headers.append(header_future)\n",
    "result = await asyncio.gather(*headers, loop=loop)\n",
    "print(len(result))\n",
    "result[:2]"
   ]
  },
  {
   "cell_type": "code",
   "execution_count": null,
   "id": "68dc43a6",
   "metadata": {},
   "outputs": [],
   "source": []
  }
 ],
 "metadata": {
  "kernelspec": {
   "display_name": "Python 3 (ipykernel)",
   "language": "python",
   "name": "python3"
  },
  "language_info": {
   "codemirror_mode": {
    "name": "ipython",
    "version": 3
   },
   "file_extension": ".py",
   "mimetype": "text/x-python",
   "name": "python",
   "nbconvert_exporter": "python",
   "pygments_lexer": "ipython3",
   "version": "3.8.10"
  }
 },
 "nbformat": 4,
 "nbformat_minor": 5
}
